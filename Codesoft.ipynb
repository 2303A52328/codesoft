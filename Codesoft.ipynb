{
  "nbformat": 4,
  "nbformat_minor": 0,
  "metadata": {
    "colab": {
      "provenance": [],
      "authorship_tag": "ABX9TyN3mxDd+hRDwxmMMKmtMZh6",
      "include_colab_link": true
    },
    "kernelspec": {
      "name": "python3",
      "display_name": "Python 3"
    },
    "language_info": {
      "name": "python"
    }
  },
  "cells": [
    {
      "cell_type": "markdown",
      "metadata": {
        "id": "view-in-github",
        "colab_type": "text"
      },
      "source": [
        "<a href=\"https://colab.research.google.com/github/2303A52328/codesoft/blob/main/Codesoft.ipynb\" target=\"_parent\"><img src=\"https://colab.research.google.com/assets/colab-badge.svg\" alt=\"Open In Colab\"/></a>"
      ]
    },
    {
      "cell_type": "markdown",
      "source": [
        "TASK 2"
      ],
      "metadata": {
        "id": "_hLuWhjQc74k"
      }
    },
    {
      "cell_type": "markdown",
      "source": [
        "Design a simple calculator with basic arithmetic operations.\n",
        " Prompt the user to input two numbers and an operation choice.\n",
        " Perform the calculation and display the result."
      ],
      "metadata": {
        "id": "qvLXWU1uY3wI"
      }
    },
    {
      "cell_type": "code",
      "source": [
        "def calculator():\n",
        "    print(\"Welcome to the Simple Calculator!\")\n",
        "    print(\"Choose an operation:\")\n",
        "    print(\"1. Addition (+)\")\n",
        "    print(\"2. Subtraction (-)\")\n",
        "    print(\"3. Multiplication (*)\")\n",
        "    print(\"4. Division (/)\")\n",
        "\n",
        "    choice = input(\"Enter the number corresponding to the operation (1/2/3/4): \")\n",
        "\n",
        "    if choice not in ['1', '2', '3', '4']:\n",
        "        print(\"Invalid choice. Please restart the program and choose a valid operation.\")\n",
        "        return\n",
        "\n",
        "    try:\n",
        "        num1 = float(input(\"Enter the first number: \"))\n",
        "        num2 = float(input(\"Enter the second number: \"))\n",
        "    except ValueError:\n",
        "        print(\"Invalid input. Please restart the program and enter valid numbers.\")\n",
        "        return\n",
        "\n",
        "    if choice == '1':\n",
        "        result = num1 + num2\n",
        "        print(f\"The result of {num1} + {num2} is: {result}\")\n",
        "    elif choice == '2':\n",
        "        result = num1 - num2\n",
        "        print(f\"The result of {num1} - {num2} is: {result}\")\n",
        "    elif choice == '3':\n",
        "        result = num1 * num2\n",
        "        print(f\"The result of {num1} * {num2} is: {result}\")\n",
        "    elif choice == '4':\n",
        "        if num2 == 0:\n",
        "            print(\"Division by zero is not allowed. Please restart the program and choose valid numbers.\")\n",
        "        else:\n",
        "            result = num1 / num2\n",
        "            print(f\"The result of {num1} / {num2} is: {result}\")\n",
        "\n",
        "calculator()\n"
      ],
      "metadata": {
        "colab": {
          "base_uri": "https://localhost:8080/"
        },
        "id": "b8fDnjrWavvU",
        "outputId": "6ddbb99b-ef3e-43aa-c084-a5f915842df5"
      },
      "execution_count": 9,
      "outputs": [
        {
          "output_type": "stream",
          "name": "stdout",
          "text": [
            "Welcome to the Simple Calculator!\n",
            "Choose an operation:\n",
            "1. Addition (+)\n",
            "2. Subtraction (-)\n",
            "3. Multiplication (*)\n",
            "4. Division (/)\n",
            "Enter the number corresponding to the operation (1/2/3/4): 3\n",
            "Enter the first number: 10\n",
            "Enter the second number: 5\n",
            "The result of 10.0 * 5.0 is: 50.0\n"
          ]
        }
      ]
    },
    {
      "cell_type": "markdown",
      "source": [
        "TASK 3"
      ],
      "metadata": {
        "id": "fdJPR0_5dAy1"
      }
    },
    {
      "cell_type": "code",
      "source": [
        " A password generator is a useful tool that generates strong and\n",
        " random passwords for users. This project aims to create a\n",
        " password generator application using Python, allowing users to\n",
        " specify the length and complexity of the password.\n",
        " User Input: Prompt the user to specify the desired length of the\n",
        " password.\n",
        " Generate Password: Use a combination of random characters to\n",
        " generate a password of the specified length.\n",
        " Display the Password: Print the generated password on the screen"
      ],
      "metadata": {
        "id": "KfUwPb-pdEAp"
      },
      "execution_count": null,
      "outputs": []
    },
    {
      "cell_type": "code",
      "source": [
        "import random\n",
        "import string\n",
        "\n",
        "def password_generator():\n",
        "    print(\"Welcome to the Password Generator!\")\n",
        "\n",
        "    # Prompt the user for the desired length of the password\n",
        "    try:\n",
        "        length = int(input(\"Enter the desired password length: \"))\n",
        "        if length <= 0:\n",
        "            print(\"Password length must be a positive number.\")\n",
        "            return\n",
        "    except ValueError:\n",
        "        print(\"Invalid input. Please enter a valid number.\")\n",
        "        return\n",
        "\n",
        "    # Prompt for password complexity options\n",
        "    print(\"\\nChoose password complexity:\")\n",
        "    print(\"1. Only letters (lowercase and uppercase)\")\n",
        "    print(\"2. Letters and numbers\")\n",
        "    print(\"3. Letters, numbers, and special characters\")\n",
        "\n",
        "    try:\n",
        "        complexity = int(input(\"Enter your choice (1/2/3): \"))\n",
        "        if complexity not in [1, 2, 3]:\n",
        "            print(\"Invalid choice. Please restart the program and choose a valid option.\")\n",
        "            return\n",
        "    except ValueError:\n",
        "        print(\"Invalid input. Please enter a valid number.\")\n",
        "        return\n",
        "\n",
        "    # Define character pools based on complexity\n",
        "    if complexity == 1:\n",
        "        characters = string.ascii_letters\n",
        "    elif complexity == 2:\n",
        "        characters = string.ascii_letters + string.digits\n",
        "    elif complexity == 3:\n",
        "        characters = string.ascii_letters + string.digits + string.punctuation\n",
        "\n",
        "    # Generate the password\n",
        "    password = ''.join(random.choice(characters) for _ in range(length))\n",
        "\n",
        "    # Display the generated password\n",
        "    print(f\"\\nYour generated password is: {password}\")\n",
        "\n",
        "# Run the password generator\n",
        "password_generator()\n"
      ],
      "metadata": {
        "colab": {
          "base_uri": "https://localhost:8080/"
        },
        "id": "ISEjWDFbd40H",
        "outputId": "45c08d07-4a1a-4b3a-e2c5-9731c2de60c1"
      },
      "execution_count": 10,
      "outputs": [
        {
          "output_type": "stream",
          "name": "stdout",
          "text": [
            "Welcome to the Password Generator!\n",
            "Enter the desired password length: 4\n",
            "\n",
            "Choose password complexity:\n",
            "1. Only letters (lowercase and uppercase)\n",
            "2. Letters and numbers\n",
            "3. Letters, numbers, and special characters\n",
            "Enter your choice (1/2/3): 3\n",
            "\n",
            "Your generated password is: 5)O<\n"
          ]
        }
      ]
    },
    {
      "cell_type": "markdown",
      "source": [
        "TASK 4"
      ],
      "metadata": {
        "id": "R5AeeTRReY2k"
      }
    },
    {
      "cell_type": "markdown",
      "source": [
        "User Input: Prompt the user to choose rock, paper, or scissors.\n",
        " Computer Selection: Generate a random choice (rock, paper, or scissors) for\n",
        " the computer.\n",
        " Game Logic: Determine the winner based on the user's choice and the\n",
        " computer's choice.\n",
        " Rock beats scissors, scissors beat paper, and paper beats rock.\n",
        " Display Result: Show the user's choice and the computer's choice.\n",
        " Display the result, whether the user wins, loses, or it's a tie.\n",
        " Score Tracking (Optional): Keep track of the user's and computer's scores for\n",
        " multiple rounds.\n",
        " Play Again: Ask the user if they want to play another round.\n",
        " User Interface: Design a user-friendly interface with clear instructions and\n",
        " feedback"
      ],
      "metadata": {
        "id": "RveD8OL8eaMM"
      }
    },
    {
      "cell_type": "code",
      "source": [
        "import random\n",
        "\n",
        "def rock_paper_scissors():\n",
        "    print(\"Welcome to Rock, Paper, Scissors!\")\n",
        "    print(\"Rules:\")\n",
        "    print(\" - Rock beats Scissors\")\n",
        "    print(\" - Scissors beats Paper\")\n",
        "    print(\" - Paper beats Rock\")\n",
        "    print(\"\\nLet's play!\\n\")\n",
        "\n",
        "    # Initialize scores\n",
        "    user_score = 0\n",
        "    computer_score = 0\n",
        "\n",
        "    while True:\n",
        "        # User input\n",
        "        user_choice = input(\"Choose Rock, Paper, or Scissors (or type 'exit' to quit): \").lower()\n",
        "        if user_choice == 'exit':\n",
        "            print(\"\\nThanks for playing!\")\n",
        "            print(f\"Final Scores: You {user_score} - {computer_score} Computer\")\n",
        "            break\n",
        "\n",
        "        if user_choice not in ['rock', 'paper', 'scissors']:\n",
        "            print(\"Invalid choice. Please choose Rock, Paper, or Scissors.\")\n",
        "            continue\n",
        "\n",
        "        # Computer choice\n",
        "        computer_choice = random.choice(['rock', 'paper', 'scissors'])\n",
        "\n",
        "        # Display choices\n",
        "        print(f\"\\nYou chose: {user_choice.capitalize()}\")\n",
        "        print(f\"Computer chose: {computer_choice.capitalize()}\")\n",
        "\n",
        "        # Determine winner\n",
        "        if user_choice == computer_choice:\n",
        "            print(\"It's a tie!\")\n",
        "        elif (user_choice == 'rock' and computer_choice == 'scissors') or \\\n",
        "             (user_choice == 'scissors' and computer_choice == 'paper') or \\\n",
        "             (user_choice == 'paper' and computer_choice == 'rock'):\n",
        "            print(\"You win this round!\")\n",
        "            user_score += 1\n",
        "        else:\n",
        "            print(\"You lose this round.\")\n",
        "            computer_score += 1\n",
        "\n",
        "        # Display scores\n",
        "        print(f\"Current Scores: You {user_score} - {computer_score} Computer\\n\")\n",
        "\n",
        "        # Ask to play again\n",
        "        play_again = input(\"Do you want to play another round? (yes/no): \").lower()\n",
        "        if play_again != 'yes':\n",
        "            print(\"\\nThanks for playing!\")\n",
        "            print(f\"Final Scores: You {user_score} - {computer_score} Computer\")\n",
        "            break\n",
        "\n",
        "# Run the game\n",
        "rock_paper_scissors()\n"
      ],
      "metadata": {
        "colab": {
          "base_uri": "https://localhost:8080/"
        },
        "id": "BibcJiD0ewTm",
        "outputId": "870f8613-84dd-428e-9be0-64302d26b212"
      },
      "execution_count": 11,
      "outputs": [
        {
          "output_type": "stream",
          "name": "stdout",
          "text": [
            "Welcome to Rock, Paper, Scissors!\n",
            "Rules:\n",
            " - Rock beats Scissors\n",
            " - Scissors beats Paper\n",
            " - Paper beats Rock\n",
            "\n",
            "Let's play!\n",
            "\n",
            "Choose Rock, Paper, or Scissors (or type 'exit' to quit): rock\n",
            "\n",
            "You chose: Rock\n",
            "Computer chose: Paper\n",
            "You lose this round.\n",
            "Current Scores: You 0 - 1 Computer\n",
            "\n",
            "Do you want to play another round? (yes/no): yes\n",
            "Choose Rock, Paper, or Scissors (or type 'exit' to quit): paper\n",
            "\n",
            "You chose: Paper\n",
            "Computer chose: Scissors\n",
            "You lose this round.\n",
            "Current Scores: You 0 - 2 Computer\n",
            "\n",
            "Do you want to play another round? (yes/no): no\n",
            "\n",
            "Thanks for playing!\n",
            "Final Scores: You 0 - 2 Computer\n"
          ]
        }
      ]
    },
    {
      "cell_type": "markdown",
      "source": [
        "TASK 5"
      ],
      "metadata": {
        "id": "zuecMF_be_Lm"
      }
    },
    {
      "cell_type": "markdown",
      "source": [
        "Contact Information: Store name, phone number, email, and address for each contact.\n",
        " Add Contact: Allow users to add new contacts with their details.\n",
        " View Contact List: Display a list of all saved contacts with names and phone numbers.\n",
        " Search Contact: Implement a search function to find contacts by name or phone number.\n",
        " Update Contact: Enable users to update contact details.\n",
        " Delete Contact: Provide an option to delete a contact.\n",
        " User Interface: Design a user-friendly interface for easy interaction."
      ],
      "metadata": {
        "id": "eEWPh_hyfCN8"
      }
    },
    {
      "cell_type": "code",
      "source": [
        "def display_menu():\n",
        "    print(\"\\nContact Management System\")\n",
        "    print(\"1. Add Contact\")\n",
        "    print(\"2. View Contact List\")\n",
        "    print(\"3. Search Contact\")\n",
        "    print(\"4. Update Contact\")\n",
        "    print(\"5. Delete Contact\")\n",
        "    print(\"6. Exit\")\n",
        "\n",
        "def add_contact(contacts):\n",
        "    name = input(\"Enter contact name: \").strip()\n",
        "    phone = input(\"Enter phone number: \").strip()\n",
        "    email = input(\"Enter email address: \").strip()\n",
        "    address = input(\"Enter address: \").strip()\n",
        "\n",
        "    if name in contacts:\n",
        "        print(\"Contact with this name already exists. Use the Update option to modify.\")\n",
        "    else:\n",
        "        contacts[name] = {\"Phone\": phone, \"Email\": email, \"Address\": address}\n",
        "        print(f\"Contact '{name}' added successfully.\")\n",
        "\n",
        "def view_contacts(contacts):\n",
        "    if not contacts:\n",
        "        print(\"No contacts found.\")\n",
        "    else:\n",
        "        print(\"\\nContact List:\")\n",
        "        for name, details in contacts.items():\n",
        "            print(f\"- {name} | Phone: {details['Phone']}\")\n",
        "\n",
        "def search_contact(contacts):\n",
        "    query = input(\"Enter name or phone number to search: \").strip()\n",
        "    found = False\n",
        "\n",
        "    for name, details in contacts.items():\n",
        "        if query.lower() in name.lower() or query == details[\"Phone\"]:\n",
        "            print(f\"\\nContact Found:\")\n",
        "            print(f\"Name: {name}\")\n",
        "            print(f\"Phone: {details['Phone']}\")\n",
        "            print(f\"Email: {details['Email']}\")\n",
        "            print(f\"Address: {details['Address']}\")\n",
        "            found = True\n",
        "            break\n",
        "\n",
        "    if not found:\n",
        "        print(\"No contact found with the given details.\")\n",
        "\n",
        "def update_contact(contacts):\n",
        "    name = input(\"Enter the name of the contact to update: \").strip()\n",
        "    if name in contacts:\n",
        "        print(\"\\nCurrent Details:\")\n",
        "        print(f\"Phone: {contacts[name]['Phone']}\")\n",
        "        print(f\"Email: {contacts[name]['Email']}\")\n",
        "        print(f\"Address: {contacts[name]['Address']}\")\n",
        "\n",
        "        phone = input(\"Enter new phone number (or press Enter to keep current): \").strip()\n",
        "        email = input(\"Enter new email (or press Enter to keep current): \").strip()\n",
        "        address = input(\"Enter new address (or press Enter to keep current): \").strip()\n",
        "\n",
        "        if phone:\n",
        "            contacts[name][\"Phone\"] = phone\n",
        "        if email:\n",
        "            contacts[name][\"Email\"] = email\n",
        "        if address:\n",
        "            contacts[name][\"Address\"] = address\n",
        "\n",
        "        print(f\"Contact '{name}' updated successfully.\")\n",
        "    else:\n",
        "        print(\"Contact not found.\")\n",
        "\n",
        "def delete_contact(contacts):\n",
        "    name = input(\"Enter the name of the contact to delete: \").strip()\n",
        "    if name in contacts:\n",
        "        del contacts[name]\n",
        "        print(f\"Contact '{name}' deleted successfully.\")\n",
        "    else:\n",
        "        print(\"Contact not found.\")\n",
        "\n",
        "def contact_management_system():\n",
        "    contacts = {}\n",
        "\n",
        "    while True:\n",
        "        display_menu()\n",
        "        choice = input(\"Enter your choice: \").strip()\n",
        "\n",
        "        if choice == \"1\":\n",
        "            add_contact(contacts)\n",
        "        elif choice == \"2\":\n",
        "            view_contacts(contacts)\n",
        "        elif choice == \"3\":\n",
        "            search_contact(contacts)\n",
        "        elif choice == \"4\":\n",
        "            update_contact(contacts)\n",
        "        elif choice == \"5\":\n",
        "            delete_contact(contacts)\n",
        "        elif choice == \"6\":\n",
        "            print(\"Exiting Contact Management System. Goodbye!\")\n",
        "            break\n",
        "        else:\n",
        "            print(\"Invalid choice. Please try again.\")\n",
        "\n",
        "# Run the contact management system\n",
        "contact_management_system()\n"
      ],
      "metadata": {
        "colab": {
          "base_uri": "https://localhost:8080/"
        },
        "id": "TvoL24s0frxw",
        "outputId": "6d5320b9-4473-4e6c-fcd9-a57dc2811757"
      },
      "execution_count": null,
      "outputs": [
        {
          "output_type": "stream",
          "name": "stdout",
          "text": [
            "\n",
            "Contact Management System\n",
            "1. Add Contact\n",
            "2. View Contact List\n",
            "3. Search Contact\n",
            "4. Update Contact\n",
            "5. Delete Contact\n",
            "6. Exit\n",
            "Enter your choice: 3\n",
            "Enter name or phone number to search: bhavana sri\n",
            "No contact found with the given details.\n",
            "\n",
            "Contact Management System\n",
            "1. Add Contact\n",
            "2. View Contact List\n",
            "3. Search Contact\n",
            "4. Update Contact\n",
            "5. Delete Contact\n",
            "6. Exit\n",
            "Enter your choice: 1\n",
            "Enter contact name: bhavana sri\n",
            "Enter phone number: 7780557442\n",
            "Enter email address: thumatibhavanasri@gmail.com\n",
            "Enter address: srinagar\n",
            "Contact 'bhavana sri' added successfully.\n",
            "\n",
            "Contact Management System\n",
            "1. Add Contact\n",
            "2. View Contact List\n",
            "3. Search Contact\n",
            "4. Update Contact\n",
            "5. Delete Contact\n",
            "6. Exit\n",
            "Enter your choice: 3\n",
            "Enter name or phone number to search: bhavanasri\n",
            "No contact found with the given details.\n",
            "\n",
            "Contact Management System\n",
            "1. Add Contact\n",
            "2. View Contact List\n",
            "3. Search Contact\n",
            "4. Update Contact\n",
            "5. Delete Contact\n",
            "6. Exit\n"
          ]
        }
      ]
    }
  ]
}